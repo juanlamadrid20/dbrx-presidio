{
 "cells": [
  {
   "cell_type": "markdown",
   "metadata": {
    "application/vnd.databricks.v1+cell": {
     "cellMetadata": {},
     "inputWidgets": {},
     "nuid": "12cd5f94-4bce-4f06-9e05-b6eee5743a72",
     "showTitle": false,
     "title": ""
    }
   },
   "source": [
    "Foundation Model Serving; https://www.databricks.com/product/pricing/foundation-model-serving\n"
   ]
  },
  {
   "cell_type": "code",
   "execution_count": 0,
   "metadata": {
    "application/vnd.databricks.v1+cell": {
     "cellMetadata": {
      "byteLimit": 2048000,
      "rowLimit": 10000
     },
     "inputWidgets": {},
     "nuid": "afa6c1f9-d425-4879-bdfa-517d594121ec",
     "showTitle": false,
     "title": ""
    }
   },
   "outputs": [
    {
     "output_type": "stream",
     "name": "stdout",
     "output_type": "stream",
     "text": [
      "Number of tokens: 970\n"
     ]
    }
   ],
   "source": [
    "from transformers import GPT2Tokenizer\n",
    "\n",
    "# Load the tokenizer\n",
    "tokenizer = GPT2Tokenizer.from_pretrained(\"gpt2\")\n",
    "\n",
    "text = \"Hello, my name is Juan and I live in New Jersey and am playing baseball. Jenny is going to Starbucks too. Hmm maybe I wonder if Databricks has a Starbucks located inside it. What about Estee? Do they want some coffee. Toby seemed like he wanted some coffee.\"\n",
    "\n",
    "prompt = f\"\"\"\n",
    "    Your role is to identify and list personally identifiable information such as names, locations, and organizations in the given text.\n",
    "\n",
    "    Instructions:\n",
    "\n",
    "    Valid types in the entity is PERSON, LOCATION, ORGANIZATION.\n",
    "    PERSON: is for people \n",
    "    LOCATION: is physical/geographic locations\n",
    "    ORGANIZATION: is names of entities such as companies, etc \n",
    "\n",
    "    Your response should be xml with findings and nothing else. No commentary or additional explanations. \n",
    "    Here is an example of how you should respond:\n",
    "    <answer>\n",
    "        <entities>\n",
    "            <entity>\n",
    "                <type>PERSON</type>\n",
    "                <start>10</start>\n",
    "                <end>14</end>\n",
    "                <score>1.0</score>\n",
    "            </entity>\n",
    "            <entity>\n",
    "                <type>LOCATION</type>\n",
    "                <start>27</start>\n",
    "                <end>37</end>\n",
    "                <score>1.0</score>\n",
    "            </entity>\n",
    "        </entities>\n",
    "    </answer>\n",
    "\n",
    "    \n",
    "    The score is your level of confidence for the detected personally identifiable information.\n",
    "    Provide nothing else in the response other than the findings array, no commentary, explanations, or anything other than array response.\n",
    "    input: my name is juan and I live in New Jersey, and I work at WHO\n",
    "    output: \n",
    "    <answer>\n",
    "    <entities>\n",
    "        <entity>\n",
    "            <type>PERSON</type>\n",
    "            <start>12</start>\n",
    "            <end>16</end>\n",
    "            <item>juan</item>\n",
    "            <score>1.0</score>\n",
    "        </entity>\n",
    "        <entity>\n",
    "            <type>LOCATION</type>\n",
    "            <start>27</start>\n",
    "            <end>37</end>\n",
    "            <item>New Jersey</item>\n",
    "            <score>1.0</score>\n",
    "        </entity>\n",
    "        <entity>\n",
    "            <type>ORGANIZATION</type>\n",
    "            <start>12</start>\n",
    "            <end>16</end>\n",
    "            <item>WHO</item>\n",
    "            <score>1.0</score>\n",
    "        </entity>\n",
    "        </entities>\n",
    "    </answer>\n",
    "    input: {text}\n",
    "    output: \n",
    "\"\"\"\n",
    "\n",
    "# Tokenize the text and count tokens\n",
    "tokens = tokenizer.tokenize(prompt)\n",
    "\n",
    "# print(\"Tokens:\", tokens)\n",
    "print(\"Number of tokens:\", len(tokens))\n"
   ]
  },
  {
   "cell_type": "markdown",
   "metadata": {
    "application/vnd.databricks.v1+cell": {
     "cellMetadata": {},
     "inputWidgets": {},
     "nuid": "6b5a1828-6cf1-4964-810a-ebe09d8c59d7",
     "showTitle": false,
     "title": ""
    }
   },
   "source": [
    "\n",
    "- Every row creates an input prompt which is ~500-600 tokens\n",
    "- Every row creates an output which is ~250 - 300 tokens\n",
    "- For 1m rows (500m input tokens, 250m output tokens)\n",
    "- $1,125 for input tokens, $1,687 for output tokens = $2,812 to scan  1m rows of data\n",
    "\n",
    "- Every request in workspace with FM api takes 1 request / 1 second\n",
    "- 1m rows = 1m seconds (assuming it takes 1 second to process 1 row)\n",
    "- 1m rows = 1m seconds = 11.57 days to process with workspace limits\n"
   ]
  },
  {
   "cell_type": "code",
   "execution_count": 0,
   "metadata": {
    "application/vnd.databricks.v1+cell": {
     "cellMetadata": {},
     "inputWidgets": {},
     "nuid": "8f45ac9a-c906-4d10-a6a9-d77a2effd2bf",
     "showTitle": false,
     "title": ""
    }
   },
   "outputs": [],
   "source": []
  }
 ],
 "metadata": {
  "application/vnd.databricks.v1+notebook": {
   "dashboards": [],
   "language": "python",
   "notebookMetadata": {
    "pythonIndentUnit": 2
   },
   "notebookName": "token_estimate",
   "widgets": {}
  }
 },
 "nbformat": 4,
 "nbformat_minor": 0
}
