{
 "cells": [
  {
   "cell_type": "code",
   "execution_count": null,
   "metadata": {
    "application/vnd.databricks.v1+cell": {
     "cellMetadata": {
      "byteLimit": 2048000,
      "rowLimit": 10000
     },
     "inputWidgets": {},
     "nuid": "7d58db4b-5c33-4860-9b23-0aba4b5b23f2",
     "showTitle": false,
     "title": ""
    }
   },
   "outputs": [],
   "source": [
    "!pip install presidio_analyzer presidio_anonymizer\n",
    "!python -m spacy download en_core_web_lg"
   ]
  },
  {
   "cell_type": "code",
   "execution_count": null,
   "metadata": {
    "application/vnd.databricks.v1+cell": {
     "cellMetadata": {
      "byteLimit": 2048000,
      "rowLimit": 10000
     },
     "inputWidgets": {},
     "nuid": "a59d98bd-af3f-4d9c-973b-fce5a3b4d3fa",
     "showTitle": false,
     "title": ""
    }
   },
   "outputs": [],
   "source": [
    "%pip install openai --upgrade\n",
    "%pip install databricks-genai\n",
    "%pip install databricks-genai-inference\n",
    "%pip install mlflow\n",
    "\n",
    "dbutils.library.restartPython()"
   ]
  },
  {
   "cell_type": "code",
   "execution_count": null,
   "metadata": {
    "application/vnd.databricks.v1+cell": {
     "cellMetadata": {
      "byteLimit": 2048000,
      "rowLimit": 10000
     },
     "inputWidgets": {},
     "nuid": "3da0b4c4-8c27-420c-bfd2-ee7d2f55eae5",
     "showTitle": false,
     "title": ""
    }
   },
   "outputs": [],
   "source": [
    "import pprint\n",
    "import os\n",
    "import pandas as pd\n",
    "from openai import OpenAI\n",
    "import mlflow\n",
    "import json\n",
    "import re\n",
    "\n",
    "databricks_token = mlflow.utils.databricks_utils.get_databricks_host_creds().token"
   ]
  },
  {
   "cell_type": "code",
   "execution_count": null,
   "metadata": {
    "application/vnd.databricks.v1+cell": {
     "cellMetadata": {
      "byteLimit": 2048000,
      "rowLimit": 10000
     },
     "inputWidgets": {},
     "nuid": "56026db9-c053-4d7d-9ada-8f288c943054",
     "showTitle": false,
     "title": ""
    }
   },
   "outputs": [],
   "source": [
    "from presidio_analyzer import EntityRecognizer, RecognizerResult, AnalyzerEngine, RecognizerRegistry\n",
    "import mlflow\n",
    "from openai import OpenAI\n",
    "from typing import List\n",
    "\n",
    "class DBRXRecognizer(EntityRecognizer):\n",
    "    def __init__(self, model=\"databricks-dbrx-instruct\", api_key=None, supported_entities=None):\n",
    "        self.model = model\n",
    "        self.api_key = api_key\n",
    "        self.supported_language = \"en\" \n",
    "        self.supported_entities = supported_entities if supported_entities else self.ENTITIES\n",
    "        self.client = OpenAI(\n",
    "            api_key=self.api_key,\n",
    "            base_url=\"https://e2-demo-field-eng.cloud.databricks.com/serving-endpoints\"\n",
    "        )\n",
    "        \n",
    "        super().__init__(\n",
    "            supported_entities=self.supported_entities,\n",
    "            supported_language=self.supported_language,\n",
    "            name=\"DBRX Recognizer\",\n",
    "        )\n",
    "\n",
    "    def load(self) -> None:\n",
    "        \"\"\"Load the model, not used as model is loaded during initialization.\"\"\"\n",
    "        pass\n",
    "\n",
    "    def get_supported_entities(self) -> List[str]:\n",
    "        \"\"\"Return supported entities by this model.\"\"\"\n",
    "        return self.supported_entities\n",
    "\n",
    "    def analyze(self, text, entities, language=\"en\", nlp_artifacts=None) -> List[RecognizerResult]:\n",
    "        prompt = f\"\"\"\n",
    "            Your role is to identify and list personally identifiable information such as names, locations, and organizations in the given text.\n",
    "\n",
    "            Instructions:\n",
    "\n",
    "            Your response should be an array of valid json objects with findings and nothing else. No commentary or additional explanations. \n",
    "            Here is an example of how you should respond: [{{\"type\": \"PERSON\", \"start\": \"10\", \"end\": \"14\", \"score\": \"1.0\"}}, {{\"type\": \"LOCATION\", \"start\": \"27\", \"end\": \"37\", \"score\": \"1.0\"}}]\n",
    "            The score is your level of confidence for the detected personally identifiable information.\n",
    "            Provide nothing else in the response other than the findings array, no commentary, explanations, or anything other than array response.\n",
    "            input: my name is juan and I live in New Jersey\n",
    "            output: [{{\"type\": \"PERSON\", \"start\": \"12\", \"end\": \"16\", \"score\": \"1.0\"}}, {{\"type\": \"LOCATION\", \"start\": \"27\", \"end\": \"37\", \"score\": \"1.0\"}}]\n",
    "            input: {{text}}\n",
    "            output: \n",
    "        \"\"\"\n",
    "\n",
    "        response = self.client.chat.completions.create(\n",
    "            messages=[\n",
    "                {\"role\": \"system\", \"content\": \"You are an AI system helping detect, classify, and anonymize sensitive PII data\"},\n",
    "                {\"role\": \"user\", \"content\": prompt}\n",
    "            ],\n",
    "            model=self.model,\n",
    "            max_tokens=1024\n",
    "        )\n",
    "\n",
    "        detected_entities = self.parse_response(response)\n",
    "        return detected_entities\n",
    "\n",
    "\n",
    "    def parse_response(self, response):\n",
    "\n",
    "        results = []\n",
    "        if response.choices and len(response.choices) > 0:\n",
    "            try:\n",
    "                completion_text = response.choices[0].message.content\n",
    "\n",
    "                print(\"completion_text -> \\n\")\n",
    "                print(completion_text)\n",
    "\n",
    "                data = json.loads(completion_text)\n",
    "                \n",
    "                print(\"data -> \\n\")\n",
    "                print(data)\n",
    "\n",
    "                # Iterate over each item in the parsed JSON data\n",
    "                for item in data:\n",
    "                    entity_type = item.get(\"type\")\n",
    "                    start_pos = item.get(\"start\")\n",
    "                    end_pos = item.get(\"end\")\n",
    "                    score = item.get(\"score\")\n",
    "\n",
    "                    # Convert start_pos and end_pos to integers\n",
    "                    if start_pos is not None:\n",
    "                        start_pos = int(start_pos)\n",
    "                    if end_pos is not None:\n",
    "                        end_pos = int(end_pos)\n",
    "\n",
    "                    # Validate all required fields are present\n",
    "                    if all([entity_type, start_pos is not None, end_pos is not None, score is not None]):\n",
    "                        result = RecognizerResult(\n",
    "                            entity_type=entity_type,\n",
    "                            start=start_pos,\n",
    "                            end=end_pos,\n",
    "                            score=score\n",
    "                        )\n",
    "                        results.append(result)\n",
    "\n",
    "            except json.JSONDecodeError:\n",
    "                print(\"Error decoding JSON from response\")\n",
    "\n",
    "        return results\n",
    "\n"
   ]
  },
  {
   "cell_type": "code",
   "execution_count": null,
   "metadata": {
    "application/vnd.databricks.v1+cell": {
     "cellMetadata": {
      "byteLimit": 2048000,
      "rowLimit": 10000
     },
     "inputWidgets": {},
     "nuid": "57136635-1501-43ea-94f2-3bc258e10079",
     "showTitle": false,
     "title": ""
    }
   },
   "outputs": [],
   "source": [
    "# Usage example\n",
    "api_key = mlflow.utils.databricks_utils.get_databricks_host_creds().token\n",
    "supported_entities = [\"PERSON\", \"LOCATION\", \"ORGANIZATION\"]\n",
    "\n",
    "openai_recognizer = DBRXRecognizer(model=\"databricks-dbrx-instruct\", api_key=api_key, supported_entities=supported_entities)\n",
    "\n",
    "registry = RecognizerRegistry()\n",
    "registry.add_recognizer(openai_recognizer)\n",
    "\n",
    "analyzer = AnalyzerEngine(registry=registry)\n",
    "\n",
    "text = \"Hello, my name is Juan and I live in New Jersey and work for Databricks.\"\n",
    "results = analyzer.analyze(text=text, language=\"en\", return_decision_process=True)\n",
    "\n",
    "print(\"final results -> \\n \")\n",
    "print(results)"
   ]
  },
  {
   "cell_type": "code",
   "execution_count": null,
   "metadata": {
    "application/vnd.databricks.v1+cell": {
     "cellMetadata": {
      "byteLimit": 2048000,
      "rowLimit": 10000
     },
     "inputWidgets": {},
     "nuid": "21a1a77a-549b-4bc8-9db9-536328914c48",
     "showTitle": false,
     "title": ""
    }
   },
   "outputs": [],
   "source": [
    "import re\n",
    "import xml.etree.ElementTree as ET\n",
    "\n",
    "# Example XML string with arbitrary text before it\n",
    "\n",
    "full_string = \"\"\"\n",
    "Some arbitrary text here\n",
    "<answer>\n",
    "    <person>\n",
    "        <name>John</name>\n",
    "        <age>30</age>\n",
    "        <address>123 Main St</address>\n",
    "    </person>\n",
    "    <person>\n",
    "        <name>Alice</name>\n",
    "        <age>25</age>\n",
    "        <address>456 Elm St</address>\n",
    "    </person>\n",
    "</answer>\n",
    "\"\"\"\n",
    "\n",
    "# Use regular expression to extract XML content\n",
    "xml_match = re.search(r'<root>.*</root>', full_string, re.DOTALL)\n",
    "if xml_match:\n",
    "    xml_content = xml_match.group(0)\n",
    "\n",
    "    # Parse the extracted XML content\n",
    "    root = ET.fromstring(xml_content)\n",
    "\n",
    "    # Iterate over each 'person' element and extract data\n",
    "    for person in root.findall('person'):\n",
    "        name_element = person.find('name')\n",
    "        age_element = person.find('age')\n",
    "        if name_element is not None and age_element is not None:\n",
    "            name = name_element.text\n",
    "            age = age_element.text\n",
    "            print(f\"Name: {name}, Age: {age}\")"
   ]
  },
  {
   "cell_type": "code",
   "execution_count": null,
   "metadata": {
    "application/vnd.databricks.v1+cell": {
     "cellMetadata": {},
     "inputWidgets": {},
     "nuid": "c30b018e-d3c8-4e3e-bd18-26e195b2b3a0",
     "showTitle": false,
     "title": ""
    }
   },
   "outputs": [],
   "source": []
  }
 ],
 "metadata": {
  "application/vnd.databricks.v1+notebook": {
   "dashboards": [],
   "language": "python",
   "notebookMetadata": {
    "pythonIndentUnit": 2
   },
   "notebookName": "dbrx_presidio_recognizer",
   "widgets": {}
  },
  "language_info": {
   "name": "python"
  }
 },
 "nbformat": 4,
 "nbformat_minor": 0
}
